{
 "cells": [
  {
   "cell_type": "code",
   "execution_count": 1,
   "metadata": {},
   "outputs": [],
   "source": [
    "import numpy as np\n",
    "import pandas as pd\n",
    "import glob\n",
    "import os\n",
    "from tqdm.notebook import tqdm\n",
    "tqdm.pandas()\n",
    "\n",
    "%matplotlib inline\n",
    "import matplotlib.pyplot as plt\n",
    "import matplotlib.dates as mdates\n",
    "from matplotlib.dates import DateFormatter\n",
    "import seaborn as sns\n",
    "\n",
    "import nltk\n",
    "from nltk.corpus import stopwords\n",
    "from nltk.tokenize import word_tokenize\n",
    "from nltk.stem import WordNetLemmatizer\n",
    "from nltk.corpus import wordnet\n",
    "from sklearn.naive_bayes import GaussianNB\n",
    "\n",
    "import re\n",
    "import emoji\n",
    "\n",
    "from sklearn.linear_model import LogisticRegression\n",
    "from sklearn.naive_bayes import MultinomialNB\n",
    "from sklearn.linear_model import SGDClassifier\n",
    "from sklearn.tree import DecisionTreeClassifier\n",
    "from sklearn.svm import LinearSVC\n",
    "from sklearn.ensemble import RandomForestClassifier\n",
    "from sklearn.feature_extraction.text import CountVectorizer\n",
    "from sklearn.feature_extraction.text import TfidfVectorizer\n",
    "from sklearn.metrics import confusion_matrix\n",
    "from sklearn.metrics import classification_report\n",
    "from sklearn.model_selection import train_test_split\n",
    "\n",
    "from gensim.models.word2vec import Word2Vec\n",
    "from gensim.models.doc2vec import Doc2Vec, TaggedDocument\n",
    "from gensim.utils import simple_preprocess\n",
    "\n",
    "from preprocessor import Preprocessor"
   ]
  },
  {
   "cell_type": "code",
   "execution_count": 2,
   "metadata": {},
   "outputs": [],
   "source": [
    "df = pd.read_csv('./dataset/Tweets/tweets-sentiment-500k.csv', lineterminator='\\n')"
   ]
  },
  {
   "cell_type": "code",
   "execution_count": 3,
   "metadata": {},
   "outputs": [],
   "source": [
    "def get_df_info(df):\n",
    "    print('Dataframe shape: ', df.shape)\n",
    "    print('-----'*20)\n",
    "    print('Dataframe info: ')\n",
    "    print(df.info())\n",
    "    print('-----'*20)\n",
    "    print('Dataframe null values count:')\n",
    "    print(df.isna().sum())\n",
    "    print('-----'*20)\n",
    "    print('Dataframe duplicates count:')\n",
    "    print(df.duplicated().sum())\n",
    "    print('-----'*20)\n",
    "    print('Dataframe sample: ')\n",
    "    display(df.sample(10))"
   ]
  },
  {
   "cell_type": "code",
   "execution_count": 4,
   "metadata": {},
   "outputs": [
    {
     "name": "stdout",
     "output_type": "stream",
     "text": [
      "Dataframe shape:  (532142, 6)\n",
      "----------------------------------------------------------------------------------------------------\n",
      "Dataframe info: \n",
      "<class 'pandas.core.frame.DataFrame'>\n",
      "RangeIndex: 532142 entries, 0 to 532141\n",
      "Data columns (total 6 columns):\n",
      " #   Column     Non-Null Count   Dtype  \n",
      "---  ------     --------------   -----  \n",
      " 0   index      532142 non-null  int64  \n",
      " 1   date       532142 non-null  object \n",
      " 2   tweets     532142 non-null  object \n",
      " 3   bearish    532142 non-null  float64\n",
      " 4   bullish    532142 non-null  float64\n",
      " 5   sentiment  532142 non-null  object \n",
      "dtypes: float64(2), int64(1), object(3)\n",
      "memory usage: 24.4+ MB\n",
      "None\n",
      "----------------------------------------------------------------------------------------------------\n",
      "Dataframe null values count:\n",
      "index        0\n",
      "date         0\n",
      "tweets       0\n",
      "bearish      0\n",
      "bullish      0\n",
      "sentiment    0\n",
      "dtype: int64\n",
      "----------------------------------------------------------------------------------------------------\n",
      "Dataframe duplicates count:\n",
      "0\n",
      "----------------------------------------------------------------------------------------------------\n",
      "Dataframe sample: \n"
     ]
    },
    {
     "data": {
      "text/html": [
       "<div>\n",
       "<style scoped>\n",
       "    .dataframe tbody tr th:only-of-type {\n",
       "        vertical-align: middle;\n",
       "    }\n",
       "\n",
       "    .dataframe tbody tr th {\n",
       "        vertical-align: top;\n",
       "    }\n",
       "\n",
       "    .dataframe thead th {\n",
       "        text-align: right;\n",
       "    }\n",
       "</style>\n",
       "<table border=\"1\" class=\"dataframe\">\n",
       "  <thead>\n",
       "    <tr style=\"text-align: right;\">\n",
       "      <th></th>\n",
       "      <th>index</th>\n",
       "      <th>date</th>\n",
       "      <th>tweets</th>\n",
       "      <th>bearish</th>\n",
       "      <th>bullish</th>\n",
       "      <th>sentiment</th>\n",
       "    </tr>\n",
       "  </thead>\n",
       "  <tbody>\n",
       "    <tr>\n",
       "      <th>114791</th>\n",
       "      <td>809237</td>\n",
       "      <td>2020-07-09 21:17:52+00:00</td>\n",
       "      <td>@clifftharippa I believe it will run till July...</td>\n",
       "      <td>0.001432</td>\n",
       "      <td>0.998568</td>\n",
       "      <td>bullish</td>\n",
       "    </tr>\n",
       "    <tr>\n",
       "      <th>274747</th>\n",
       "      <td>13151</td>\n",
       "      <td>2020-04-09 01:38:11+00:00</td>\n",
       "      <td>RT @PeterLBrandt: $SPX $ES_F \\nFollowing this ...</td>\n",
       "      <td>0.986662</td>\n",
       "      <td>0.013338</td>\n",
       "      <td>bearish</td>\n",
       "    </tr>\n",
       "    <tr>\n",
       "      <th>331024</th>\n",
       "      <td>195827</td>\n",
       "      <td>2020-04-25 13:12:48+00:00</td>\n",
       "      <td>How Your Marital Status Will Affect Your Stimu...</td>\n",
       "      <td>0.509185</td>\n",
       "      <td>0.490815</td>\n",
       "      <td>bearish</td>\n",
       "    </tr>\n",
       "    <tr>\n",
       "      <th>242624</th>\n",
       "      <td>244388</td>\n",
       "      <td>2020-04-29 14:27:00+00:00</td>\n",
       "      <td>Every trader has strengths and weakness...\\n.\\...</td>\n",
       "      <td>0.062353</td>\n",
       "      <td>0.937647</td>\n",
       "      <td>bullish</td>\n",
       "    </tr>\n",
       "    <tr>\n",
       "      <th>109573</th>\n",
       "      <td>713729</td>\n",
       "      <td>2020-06-30 02:17:48+00:00</td>\n",
       "      <td>The #sp500 and #stockmarket is still very bull...</td>\n",
       "      <td>0.001388</td>\n",
       "      <td>0.998612</td>\n",
       "      <td>bullish</td>\n",
       "    </tr>\n",
       "    <tr>\n",
       "      <th>258352</th>\n",
       "      <td>263428</td>\n",
       "      <td>2020-05-04 15:18:44+00:00</td>\n",
       "      <td>$SNE Sony sensors\\nWho needs cameras? Telepres...</td>\n",
       "      <td>0.001395</td>\n",
       "      <td>0.998605</td>\n",
       "      <td>bullish</td>\n",
       "    </tr>\n",
       "    <tr>\n",
       "      <th>332475</th>\n",
       "      <td>201248</td>\n",
       "      <td>2020-04-26 18:41:10+00:00</td>\n",
       "      <td>Short #axisbank target 380, 350 \\nStop loss 41...</td>\n",
       "      <td>0.997530</td>\n",
       "      <td>0.002470</td>\n",
       "      <td>bearish</td>\n",
       "    </tr>\n",
       "    <tr>\n",
       "      <th>101983</th>\n",
       "      <td>529813</td>\n",
       "      <td>2020-06-16 18:21:27+00:00</td>\n",
       "      <td>Spoke with a member this morning who had set o...</td>\n",
       "      <td>0.026722</td>\n",
       "      <td>0.973278</td>\n",
       "      <td>bullish</td>\n",
       "    </tr>\n",
       "    <tr>\n",
       "      <th>370567</th>\n",
       "      <td>340340</td>\n",
       "      <td>2020-05-28 07:15:49+00:00</td>\n",
       "      <td>@FirstSquawk First Squawk\\n$SPX $NDX ALZHEIMER...</td>\n",
       "      <td>0.869117</td>\n",
       "      <td>0.130883</td>\n",
       "      <td>bearish</td>\n",
       "    </tr>\n",
       "    <tr>\n",
       "      <th>338172</th>\n",
       "      <td>222450</td>\n",
       "      <td>2020-04-28 19:56:38+00:00</td>\n",
       "      <td>$ES_F $SPY $VXX $NYSE #SP500 #stockmarket #mar...</td>\n",
       "      <td>0.975461</td>\n",
       "      <td>0.024539</td>\n",
       "      <td>bearish</td>\n",
       "    </tr>\n",
       "  </tbody>\n",
       "</table>\n",
       "</div>"
      ],
      "text/plain": [
       "         index                       date  \\\n",
       "114791  809237  2020-07-09 21:17:52+00:00   \n",
       "274747   13151  2020-04-09 01:38:11+00:00   \n",
       "331024  195827  2020-04-25 13:12:48+00:00   \n",
       "242624  244388  2020-04-29 14:27:00+00:00   \n",
       "109573  713729  2020-06-30 02:17:48+00:00   \n",
       "258352  263428  2020-05-04 15:18:44+00:00   \n",
       "332475  201248  2020-04-26 18:41:10+00:00   \n",
       "101983  529813  2020-06-16 18:21:27+00:00   \n",
       "370567  340340  2020-05-28 07:15:49+00:00   \n",
       "338172  222450  2020-04-28 19:56:38+00:00   \n",
       "\n",
       "                                                   tweets   bearish   bullish  \\\n",
       "114791  @clifftharippa I believe it will run till July...  0.001432  0.998568   \n",
       "274747  RT @PeterLBrandt: $SPX $ES_F \\nFollowing this ...  0.986662  0.013338   \n",
       "331024  How Your Marital Status Will Affect Your Stimu...  0.509185  0.490815   \n",
       "242624  Every trader has strengths and weakness...\\n.\\...  0.062353  0.937647   \n",
       "109573  The #sp500 and #stockmarket is still very bull...  0.001388  0.998612   \n",
       "258352  $SNE Sony sensors\\nWho needs cameras? Telepres...  0.001395  0.998605   \n",
       "332475  Short #axisbank target 380, 350 \\nStop loss 41...  0.997530  0.002470   \n",
       "101983  Spoke with a member this morning who had set o...  0.026722  0.973278   \n",
       "370567  @FirstSquawk First Squawk\\n$SPX $NDX ALZHEIMER...  0.869117  0.130883   \n",
       "338172  $ES_F $SPY $VXX $NYSE #SP500 #stockmarket #mar...  0.975461  0.024539   \n",
       "\n",
       "       sentiment  \n",
       "114791   bullish  \n",
       "274747   bearish  \n",
       "331024   bearish  \n",
       "242624   bullish  \n",
       "109573   bullish  \n",
       "258352   bullish  \n",
       "332475   bearish  \n",
       "101983   bullish  \n",
       "370567   bearish  \n",
       "338172   bearish  "
      ]
     },
     "metadata": {},
     "output_type": "display_data"
    }
   ],
   "source": [
    "get_df_info(df)"
   ]
  },
  {
   "cell_type": "code",
   "execution_count": 5,
   "metadata": {},
   "outputs": [
    {
     "data": {
      "text/plain": [
       "sentiment\n",
       "bearish    262142\n",
       "bullish    270000\n",
       "Name: tweets, dtype: int64"
      ]
     },
     "execution_count": 5,
     "metadata": {},
     "output_type": "execute_result"
    }
   ],
   "source": [
    "df.groupby('sentiment')['tweets'].count()"
   ]
  },
  {
   "cell_type": "markdown",
   "metadata": {},
   "source": [
    "### Model building and training"
   ]
  },
  {
   "cell_type": "code",
   "execution_count": 6,
   "metadata": {},
   "outputs": [
    {
     "name": "stderr",
     "output_type": "stream",
     "text": [
      "[nltk_data] Downloading package stopwords to\n",
      "[nltk_data]     /Users/ayeesha/nltk_data...\n",
      "[nltk_data]   Package stopwords is already up-to-date!\n"
     ]
    },
    {
     "data": {
      "text/plain": [
       "True"
      ]
     },
     "execution_count": 6,
     "metadata": {},
     "output_type": "execute_result"
    }
   ],
   "source": [
    "nltk.download('stopwords')"
   ]
  },
  {
   "cell_type": "code",
   "execution_count": 7,
   "metadata": {},
   "outputs": [],
   "source": [
    "# import nltk\n",
    "# from nltk.corpus import stopwords\n",
    "# from nltk.tokenize import word_tokenize\n",
    "# from nltk.stem import WordNetLemmatizer\n",
    "# import re\n",
    "# import emoji\n",
    "# from sklearn.feature_extraction.text import CountVectorizer\n",
    "\n",
    "# class Preprocessor:\n",
    "#     def __init__(\n",
    "#         self, \n",
    "#         stopwords=stopwords.words('english'), \n",
    "#         vectorizer = CountVectorizer(max_features=30000, ngram_range=(1,3))\n",
    "#     ):\n",
    "#         self.stopwords = stopwords\n",
    "#         self.vectorizer = vectorizer\n",
    "#         self.vectorizer_fitted = False\n",
    "#         self.wnl = WordNetLemmatizer()\n",
    "#         self.usernam_pattern = re.compile(r'(\\@)(\\S+)')\n",
    "#         self.twitter_handle_pattern = re.compile(r'(\\#)(\\S+)')\n",
    "    \n",
    "#     def clean_tweet(self, texts):\n",
    "#         print('Cleaning...')\n",
    "#         cleaned_texts = []\n",
    "#         for text in texts:\n",
    "#             # Replace @usernames with the text mention_\n",
    "#             text = re.sub(self.usernam_pattern, r'mention_\\2', text)\n",
    "#             # Replace #hashtags with the text hashtag_\n",
    "#             text = re.sub(self.twitter_handle_pattern, r'hashtag_\\2', text)\n",
    "#             # remove URLs\n",
    "#             text = re.sub(r'https?://\\S+', \"\", text)\n",
    "#             text = re.sub(r'www.\\S+', \"\", text)\n",
    "#             # remove $cashtags\n",
    "#             text = re.sub(r'(\\$)([A-Za-z]+)', r'cashtag_\\2', text)\n",
    "#             # deemojize\n",
    "#             text = emoji.demojize(text, delimiters=(\"\", \" \"))\n",
    "#             # remove punctuations\n",
    "#             # text = re.sub(r'[^\\w\\s]', '', text)\n",
    "#             # remove numbers\n",
    "#             # text = re.sub(r'[0-9]', ' ', text)\n",
    "#             # remove extra spaces\n",
    "#             text = re.sub(r' +', ' ', text)\n",
    "#             text = text.strip()\n",
    "#             cleaned_texts.append(text)\n",
    "\n",
    "#         return cleaned_texts\n",
    "    \n",
    "#     def tokenize(self, texts):\n",
    "#         print('Tokenizing...')\n",
    "#         return [word_tokenize(text) for text in texts]\n",
    "\n",
    "#     def lemmatize(self, texts):\n",
    "#         tokens_list = self.tokenize(texts)\n",
    "#         print('Lemmatizing...')\n",
    "#         return [' '.join(self.negation_handler(text)) for text in tokens_list]\n",
    "    \n",
    "#     # https://github.com/UtkarshRedd/Negation_handling/blob/main/NegationHandling.py\n",
    "#     def negation_handler(self, sentence):\n",
    "#         temp = int(0)\n",
    "#         for i in range(len(sentence)):\n",
    "#             if sentence[i-1] in ['not',\"n't\"]:\n",
    "#                 antonyms = []\n",
    "#                 for syn in wordnet.synsets(sentence[i]):\n",
    "#                     syns = wordnet.synsets(sentence[i])\n",
    "#                     w1 = syns[0].name()\n",
    "#                     temp = 0\n",
    "#                     for l in syn.lemmas():\n",
    "#                         if l.antonyms():\n",
    "#                             antonyms.append(l.antonyms()[0].name())\n",
    "#                     max_dissimilarity = 0\n",
    "#                     for ant in antonyms:\n",
    "#                         syns = wordnet.synsets(ant)\n",
    "#                         w2 = syns[0].name()\n",
    "#                         syns = wordnet.synsets(sentence[i])\n",
    "#                         w1 = syns[0].name()\n",
    "#                         word1 = wordnet.synset(w1)\n",
    "#                         word2 = wordnet.synset(w2)\n",
    "#                         if isinstance(word1.wup_similarity(word2), float) or isinstance(word1.wup_similarity(word2), int):\n",
    "#                             temp = 1 - word1.wup_similarity(word2)\n",
    "#                         if temp>max_dissimilarity:\n",
    "#                             max_dissimilarity = temp\n",
    "#                             antonym_max = ant\n",
    "#                             sentence[i] = antonym_max\n",
    "#                             sentence[i-1] = ''\n",
    "#         while '' in sentence:\n",
    "#             sentence.remove('')\n",
    "#         return sentence\n",
    "\n",
    "#     def fit(self, X):\n",
    "#         X = X.copy()\n",
    "#         X = self.clean_tweet(X)                     # clean tweets\n",
    "#         X = self.lemmatize(X)                       # lemmatize\n",
    "#         print('Fitting vectorizer...')\n",
    "#         self.vectorizer.fit(X)\n",
    "#         print('Done')\n",
    "\n",
    "#     def transform(self, X):\n",
    "#         X = X.copy()\n",
    "#         # print('Removing Nans...')\n",
    "#         # X = X[~X.isnull()]                          # delete nans\n",
    "#         # X = X[~X.duplicated()]                      # delete duplicates\n",
    "        \n",
    "#         # X = self.remove_stopwords(X)                 # remove stopwords\n",
    "#         X = self.clean_tweet(X)\n",
    "#         X = self.lemmatize(X)                        # lemmatize\n",
    "\n",
    "#         print('Vectorizing...')\n",
    "#         X = self.vectorizer.transform(X)             # vectorize\n",
    "#         print('Done')\n",
    "#         return X"
   ]
  },
  {
   "cell_type": "code",
   "execution_count": 8,
   "metadata": {},
   "outputs": [],
   "source": [
    "# Reusable model function\n",
    "def fit_train_predict_model(X_train, y_train, X_test, y_test):\n",
    "    models = [\n",
    "        LogisticRegression(C = 2, solver='liblinear', max_iter=1000),\n",
    "        #RandomForestClassifier(),\n",
    "        # DecisionTreeClassifier(),\n",
    "        MultinomialNB()\n",
    "        # SGDClassifier(max_iter=100),\n",
    "        # LinearSVC(C = 2, max_iter=500)\n",
    "    ]\n",
    "    for model in models:\n",
    "        model.fit(X_train, y_train)\n",
    "        y_pred_test = model.predict(X_test)\n",
    "        print('======='*10)\n",
    "        print(type(model).__name__)\n",
    "        print('======='*10)\n",
    "        print(classification_report(y_test, y_pred_test))\n",
    "        sns.heatmap(confusion_matrix(y_test, y_pred_test), annot=True)\n",
    "        plt.show()\n",
    "    \n",
    "    return models"
   ]
  },
  {
   "cell_type": "markdown",
   "metadata": {},
   "source": [
    "### Train test split"
   ]
  },
  {
   "cell_type": "code",
   "execution_count": 9,
   "metadata": {},
   "outputs": [],
   "source": [
    "(X_train, X_test, y_train, y_test) = train_test_split(df['tweets'], df['sentiment'], test_size=0.2)"
   ]
  },
  {
   "cell_type": "markdown",
   "metadata": {},
   "source": [
    "### Preprocess using CountVectorizer (Bag of words)"
   ]
  },
  {
   "cell_type": "code",
   "execution_count": 10,
   "metadata": {},
   "outputs": [],
   "source": [
    "X_cv_train = X_train.copy()\n",
    "X_cv_test = X_test.copy()"
   ]
  },
  {
   "cell_type": "code",
   "execution_count": 11,
   "metadata": {},
   "outputs": [
    {
     "name": "stdout",
     "output_type": "stream",
     "text": [
      "Cleaning...\n",
      "Tokenizing...\n",
      "Negation handling...\n",
      "Fitting vectorizer...\n",
      "Done\n",
      "Cleaning...\n",
      "Tokenizing...\n",
      "Negation handling...\n",
      "Vectorizing...\n",
      "Done\n",
      "Cleaning...\n",
      "Tokenizing...\n",
      "Negation handling...\n",
      "Vectorizing...\n",
      "Done\n"
     ]
    }
   ],
   "source": [
    "cv_preprocessor = Preprocessor(CountVectorizer(ngram_range=(1,3))) # Default vectorizer is the CountVectorizer\n",
    "cv_preprocessor.fit(X_cv_train)\n",
    "X_cv_train = cv_preprocessor.transform(X_cv_train)\n",
    "X_cv_test = cv_preprocessor.transform(X_cv_test)"
   ]
  },
  {
   "cell_type": "code",
   "execution_count": 12,
   "metadata": {},
   "outputs": [
    {
     "name": "stdout",
     "output_type": "stream",
     "text": [
      "(425713, 30000)\n",
      "(425713,)\n"
     ]
    }
   ],
   "source": [
    "print(X_cv_train.shape)\n",
    "print(y_train.shape)"
   ]
  },
  {
   "cell_type": "code",
   "execution_count": 13,
   "metadata": {},
   "outputs": [
    {
     "name": "stdout",
     "output_type": "stream",
     "text": [
      "======================================================================\n",
      "LogisticRegression\n",
      "======================================================================\n",
      "              precision    recall  f1-score   support\n",
      "\n",
      "     bearish       0.84      0.85      0.84     52362\n",
      "     bullish       0.85      0.84      0.85     54067\n",
      "\n",
      "    accuracy                           0.84    106429\n",
      "   macro avg       0.84      0.84      0.84    106429\n",
      "weighted avg       0.84      0.84      0.84    106429\n",
      "\n"
     ]
    },
    {
     "data": {
      "image/png": "[encoded data removed]",
      "text/plain": [
       "<Figure size 432x288 with 2 Axes>"
      ]
     },
     "metadata": {
      "needs_background": "light"
     },
     "output_type": "display_data"
    },
    {
     "name": "stdout",
     "output_type": "stream",
     "text": [
      "======================================================================\n",
      "MultinomialNB\n",
      "======================================================================\n",
      "              precision    recall  f1-score   support\n",
      "\n",
      "     bearish       0.78      0.76      0.77     52362\n",
      "     bullish       0.78      0.79      0.78     54067\n",
      "\n",
      "    accuracy                           0.78    106429\n",
      "   macro avg       0.78      0.78      0.78    106429\n",
      "weighted avg       0.78      0.78      0.78    106429\n",
      "\n"
     ]
    },
    {
     "data": {
      "image/png": "[encoded data removed]",
      "text/plain": [
       "<Figure size 432x288 with 2 Axes>"
      ]
     },
     "metadata": {
      "needs_background": "light"
     },
     "output_type": "display_data"
    }
   ],
   "source": [
    "cv_models = fit_train_predict_model(X_cv_train, y_train, X_cv_test, y_test)"
   ]
  },
  {
   "cell_type": "code",
   "execution_count": 14,
   "metadata": {},
   "outputs": [],
   "source": [
    "import pickle\n",
    "pickle.dump(cv_preprocessor, open('cv_preprocessor.pkl', 'wb'))\n",
    "pickle.dump(cv_models[0], open('cv_log_reg_model.pkl', 'wb'))"
   ]
  },
  {
   "cell_type": "markdown",
   "metadata": {},
   "source": [
    "### Vectorize the text feature using Tfidf Vectorizer"
   ]
  },
  {
   "cell_type": "code",
   "execution_count": 15,
   "metadata": {},
   "outputs": [],
   "source": [
    "X_tfidf_train = X_train.copy()\n",
    "X_tfidf_test = X_test.copy()"
   ]
  },
  {
   "cell_type": "code",
   "execution_count": 16,
   "metadata": {},
   "outputs": [
    {
     "name": "stdout",
     "output_type": "stream",
     "text": [
      "Cleaning...\n",
      "Tokenizing...\n",
      "Negation handling...\n",
      "Fitting vectorizer...\n",
      "Done\n",
      "Cleaning...\n",
      "Tokenizing...\n",
      "Negation handling...\n",
      "Vectorizing...\n",
      "Done\n",
      "Cleaning...\n",
      "Tokenizing...\n",
      "Negation handling...\n",
      "Vectorizing...\n",
      "Done\n"
     ]
    }
   ],
   "source": [
    "tfidf_preprocessor = Preprocessor(vectorizer=TfidfVectorizer(lowercase=False, max_features=30000, min_df=10, ngram_range=(1, 3)))\n",
    "\n",
    "tfidf_preprocessor.fit(X_tfidf_train)\n",
    "X_tfidf_train = tfidf_preprocessor.transform(X_tfidf_train)\n",
    "X_tfidf_test = tfidf_preprocessor.transform(X_tfidf_test)\n"
   ]
  },
  {
   "cell_type": "code",
   "execution_count": 17,
   "metadata": {},
   "outputs": [
    {
     "name": "stdout",
     "output_type": "stream",
     "text": [
      "(425713, 30000)\n",
      "(425713,)\n"
     ]
    }
   ],
   "source": [
    "print(X_tfidf_train.shape)\n",
    "print(y_train.shape)"
   ]
  },
  {
   "cell_type": "code",
   "execution_count": 18,
   "metadata": {},
   "outputs": [
    {
     "name": "stdout",
     "output_type": "stream",
     "text": [
      "======================================================================\n",
      "LogisticRegression\n",
      "======================================================================\n",
      "              precision    recall  f1-score   support\n",
      "\n",
      "     bearish       0.83      0.85      0.84     52362\n",
      "     bullish       0.85      0.84      0.84     54067\n",
      "\n",
      "    accuracy                           0.84    106429\n",
      "   macro avg       0.84      0.84      0.84    106429\n",
      "weighted avg       0.84      0.84      0.84    106429\n",
      "\n"
     ]
    },
    {
     "data": {
      "image/png": "[encoded data removed]",
      "text/plain": [
       "<Figure size 432x288 with 2 Axes>"
      ]
     },
     "metadata": {
      "needs_background": "light"
     },
     "output_type": "display_data"
    },
    {
     "name": "stdout",
     "output_type": "stream",
     "text": [
      "======================================================================\n",
      "MultinomialNB\n",
      "======================================================================\n",
      "              precision    recall  f1-score   support\n",
      "\n",
      "     bearish       0.77      0.79      0.78     52362\n",
      "     bullish       0.79      0.77      0.78     54067\n",
      "\n",
      "    accuracy                           0.78    106429\n",
      "   macro avg       0.78      0.78      0.78    106429\n",
      "weighted avg       0.78      0.78      0.78    106429\n",
      "\n"
     ]
    },
    {
     "data": {
      "image/png": "[encoded data removed]",
      "text/plain": [
       "<Figure size 432x288 with 2 Axes>"
      ]
     },
     "metadata": {
      "needs_background": "light"
     },
     "output_type": "display_data"
    }
   ],
   "source": [
    "tfidf_models = fit_train_predict_model(X_tfidf_train, y_train, X_tfidf_test, y_test)"
   ]
  },
  {
   "cell_type": "markdown",
   "metadata": {},
   "source": [
    "### Word2Vec vectorization"
   ]
  },
  {
   "cell_type": "code",
   "execution_count": 19,
   "metadata": {},
   "outputs": [],
   "source": [
    "# class Word2Vectorizer():\n",
    "#     def __init__(self):\n",
    "#         self.model = None\n",
    "#         self.vector_size = 1000\n",
    "\n",
    "#     def fit(self, X):\n",
    "#         tweet_list = [word_tokenize(tweet) for tweet in X]\n",
    "#         model = Word2Vec(tweet_list, min_count=2, window = 3, sg = 1, workers = 8, max_vocab_size = None, vector_size=self.vector_size)\n",
    "#         self.model = model\n",
    "#         print(len(model.wv))\n",
    "    \n",
    "#     #Build word vector for training set by using the average value of all word vectors in the tweet, then scale\n",
    "#     def __buildWordVector(self, text, size):\n",
    "#         vec = np.zeros(size)\n",
    "#         count = 0.\n",
    "#         for word in text:\n",
    "#             try:\n",
    "#                 vec += self.model.wv[word]\n",
    "#                 count += 1.\n",
    "#             except KeyError:\n",
    "#                 continue\n",
    "#         if count != 0:\n",
    "#             vec /= count\n",
    "#         return vec\n",
    "\n",
    "#     def transform(self, X):\n",
    "#         # self.model = gensim.models.Word2Vec.load('tweets.embedding')\n",
    "#         tweet_list = [word_tokenize(tweet) for tweet in X]\n",
    "#         return [self.__buildWordVector(tweet, self.vector_size) for tweet in tweet_list]\n",
    "         "
   ]
  },
  {
   "cell_type": "code",
   "execution_count": 20,
   "metadata": {},
   "outputs": [],
   "source": [
    "# X_w2v_train = X_train.copy()\n",
    "# X_w2v_test = X_test.copy()"
   ]
  },
  {
   "cell_type": "code",
   "execution_count": 21,
   "metadata": {},
   "outputs": [],
   "source": [
    "# w2vectorizer = Word2Vectorizer()\n",
    "\n",
    "# w2v_preprocessor = Preprocessor(vectorizer=w2vectorizer) # Default vectorizer is the CountVectorizer\n",
    "\n",
    "# w2v_preprocessor.fit(df['tweets'])\n",
    "# X_w2v_train = w2v_preprocessor.transform(X_w2v_train)\n",
    "# X_w2v_test = w2v_preprocessor.transform(X_w2v_test)"
   ]
  },
  {
   "cell_type": "code",
   "execution_count": 22,
   "metadata": {},
   "outputs": [],
   "source": [
    "# w2v_models = fit_train_predict_model(X_w2v_train, y_train, X_w2v_test, y_test)"
   ]
  },
  {
   "cell_type": "markdown",
   "metadata": {},
   "source": [
    "### Doc2Vec"
   ]
  },
  {
   "cell_type": "code",
   "execution_count": 23,
   "metadata": {},
   "outputs": [],
   "source": [
    "# class Doc2Vectorizer():\n",
    "#     def __init__(self):\n",
    "#         self.model = None\n",
    "#         self.vector_size = 1000\n",
    "\n",
    "#     def fit(self, X):\n",
    "#         documents = [TaggedDocument(simple_preprocess(doc), [i]) for i, doc in enumerate(X)]\n",
    "#         self.model = Doc2Vec(documents, vector_size = self.vector_size, min_count=2, window = 3, dm = 0, workers = 8)\n",
    "\n",
    "#     def transform(self, X):\n",
    "#         tweet_list = [simple_preprocess(tweet) for tweet in X]\n",
    "#         return [self.model.infer_vector(tweet) for tweet in tweet_list]\n",
    "        "
   ]
  },
  {
   "cell_type": "code",
   "execution_count": 24,
   "metadata": {},
   "outputs": [],
   "source": [
    "# X_d2v_train = X_train.copy()\n",
    "# X_d2v_test = X_test.copy()"
   ]
  },
  {
   "cell_type": "code",
   "execution_count": 25,
   "metadata": {},
   "outputs": [],
   "source": [
    "# d2vectorizer = Doc2Vectorizer()\n",
    "\n",
    "# d2v_preprocessor = Preprocessor(vectorizer=d2vectorizer) # Default vectorizer is the CountVectorizer\n",
    "\n",
    "# d2v_preprocessor.fit(X_d2v_train)\n",
    "# X_d2v_train = d2v_preprocessor.transform(X_d2v_train)\n",
    "# X_d2v_test = d2v_preprocessor.transform(X_d2v_test)"
   ]
  },
  {
   "cell_type": "code",
   "execution_count": 26,
   "metadata": {},
   "outputs": [],
   "source": [
    "# d2v_models = fit_train_predict_model(X_d2v_train, y_train, X_d2v_test, y_test)"
   ]
  }
 ],
 "metadata": {
  "kernelspec": {
   "display_name": "Python 3 (ipykernel)",
   "language": "python",
   "name": "python3"
  },
  "language_info": {
   "codemirror_mode": {
    "name": "ipython",
    "version": 3
   },
   "file_extension": ".py",
   "mimetype": "text/x-python",
   "name": "python",
   "nbconvert_exporter": "python",
   "pygments_lexer": "ipython3",
   "version": "3.9.12"
  },
  "toc": {
   "base_numbering": 1,
   "nav_menu": {},
   "number_sections": true,
   "sideBar": true,
   "skip_h1_title": false,
   "title_cell": "Table of Contents",
   "title_sidebar": "Contents",
   "toc_cell": false,
   "toc_position": {},
   "toc_section_display": true,
   "toc_window_display": false
  }
 },
 "nbformat": 4,
 "nbformat_minor": 2
}
